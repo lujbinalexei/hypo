{
 "cells": [
  {
   "cell_type": "code",
   "execution_count": 1,
   "metadata": {},
   "outputs": [
    {
     "name": "stdout",
     "output_type": "stream",
     "text": [
      "C:\\Users\\luzhbin.aleksey\\Desktop\\analytics\n"
     ]
    }
   ],
   "source": [
    "import warnings\n",
    "warnings.filterwarnings('ignore')\n",
    "import pandas as pd\n",
    "import numpy as np\n",
    "import scipy.stats as st\n",
    "%cd C:\\Users\\luzhbin.aleksey\\Desktop\\analytics"
   ]
  },
  {
   "cell_type": "markdown",
   "metadata": {},
   "source": [
    "**Загрузка и обработка данных:**"
   ]
  },
  {
   "cell_type": "code",
   "execution_count": 2,
   "metadata": {},
   "outputs": [],
   "source": [
    "zvk = pd.read_csv('zvk_hlf_opr.csv')"
   ]
  },
  {
   "cell_type": "code",
   "execution_count": 3,
   "metadata": {},
   "outputs": [
    {
     "name": "stdout",
     "output_type": "stream",
     "text": [
      "634351\n"
     ]
    },
    {
     "data": {
      "text/html": [
       "<div>\n",
       "<style scoped>\n",
       "    .dataframe tbody tr th:only-of-type {\n",
       "        vertical-align: middle;\n",
       "    }\n",
       "\n",
       "    .dataframe tbody tr th {\n",
       "        vertical-align: top;\n",
       "    }\n",
       "\n",
       "    .dataframe thead th {\n",
       "        text-align: right;\n",
       "    }\n",
       "</style>\n",
       "<table border=\"1\" class=\"dataframe\">\n",
       "  <thead>\n",
       "    <tr style=\"text-align: right;\">\n",
       "      <th></th>\n",
       "      <th>NumZvk</th>\n",
       "      <th>DateZvk</th>\n",
       "      <th>Region</th>\n",
       "      <th>ProductType</th>\n",
       "      <th>Product</th>\n",
       "      <th>Status</th>\n",
       "      <th>ZvkSum</th>\n",
       "      <th>Duration</th>\n",
       "      <th>Name</th>\n",
       "      <th>Gender</th>\n",
       "      <th>...</th>\n",
       "      <th>ON</th>\n",
       "      <th>Age</th>\n",
       "      <th>hlfStatus</th>\n",
       "      <th>hlfDaysOfOverdue</th>\n",
       "      <th>oprZmSum</th>\n",
       "      <th>oprDate</th>\n",
       "      <th>oprODpb</th>\n",
       "      <th>oprDatepb</th>\n",
       "      <th>oprODpn</th>\n",
       "      <th>oprDatepn</th>\n",
       "    </tr>\n",
       "  </thead>\n",
       "  <tbody>\n",
       "    <tr>\n",
       "      <th>0</th>\n",
       "      <td>6-01-015/OFF/19.104</td>\n",
       "      <td>2019-05-21</td>\n",
       "      <td>Ростовская</td>\n",
       "      <td>Новый клиент от 29.01.2019</td>\n",
       "      <td>offline</td>\n",
       "      <td>Отказано</td>\n",
       "      <td>11000.0</td>\n",
       "      <td>17</td>\n",
       "      <td>ЛИТОВЧЕНКО АЛЕКСЕЙ СЕРГЕЕВИЧ,1997-10-20</td>\n",
       "      <td>Мужской</td>\n",
       "      <td>...</td>\n",
       "      <td>False</td>\n",
       "      <td>21</td>\n",
       "      <td>NaN</td>\n",
       "      <td>NaN</td>\n",
       "      <td>NaN</td>\n",
       "      <td>NaN</td>\n",
       "      <td>NaN</td>\n",
       "      <td>NaN</td>\n",
       "      <td>NaN</td>\n",
       "      <td>NaN</td>\n",
       "    </tr>\n",
       "  </tbody>\n",
       "</table>\n",
       "<p>1 rows × 22 columns</p>\n",
       "</div>"
      ],
      "text/plain": [
       "                NumZvk     DateZvk      Region                 ProductType  \\\n",
       "0  6-01-015/OFF/19.104  2019-05-21  Ростовская  Новый клиент от 29.01.2019   \n",
       "\n",
       "   Product    Status   ZvkSum  Duration  \\\n",
       "0  offline  Отказано  11000.0        17   \n",
       "\n",
       "                                      Name   Gender  ...     ON  Age  \\\n",
       "0  ЛИТОВЧЕНКО АЛЕКСЕЙ СЕРГЕЕВИЧ,1997-10-20  Мужской  ...  False   21   \n",
       "\n",
       "   hlfStatus  hlfDaysOfOverdue oprZmSum  oprDate  oprODpb oprDatepb  oprODpn  \\\n",
       "0        NaN               NaN      NaN      NaN      NaN       NaN      NaN   \n",
       "\n",
       "  oprDatepn  \n",
       "0       NaN  \n",
       "\n",
       "[1 rows x 22 columns]"
      ]
     },
     "execution_count": 3,
     "metadata": {},
     "output_type": "execute_result"
    }
   ],
   "source": [
    "zvk = zvk[(zvk.Product != 'auto-lombard') & (zvk.ProductType != 'ПСК ДОВЕРИЕ')]\n",
    "zvk['Duration'] = list(map(int, zvk.Duration))\n",
    "zvk = zvk[zvk.Duration <= 31]\n",
    "print(zvk.shape[0])\n",
    "zvk[:1]"
   ]
  },
  {
   "cell_type": "markdown",
   "metadata": {},
   "source": [
    "**Период времени, который включает в себя загруженный датафрейм:**"
   ]
  },
  {
   "cell_type": "code",
   "execution_count": 4,
   "metadata": {},
   "outputs": [
    {
     "name": "stdout",
     "output_type": "stream",
     "text": [
      "2018-12-01 2019-05-21\n"
     ]
    }
   ],
   "source": [
    "print(min(zvk.DateZvk), max(zvk.DateZvk))"
   ]
  },
  {
   "cell_type": "markdown",
   "metadata": {},
   "source": [
    "**Функция обработки данных по просрочке (overdue):** "
   ]
  },
  {
   "cell_type": "code",
   "execution_count": 144,
   "metadata": {},
   "outputs": [],
   "source": [
    "def overdue(df, first, final):\n",
    "    smpl_all = df[(df.DateZvk >= first) & (df.DateZvk <= final) & (pd.isnull(df.oprZmSum) == False)]\n",
    "    smpl_all = smpl_all[(smpl_all.oprODpb == 0) | (smpl_all.oprODpn == 0)]\n",
    "    smpl_all = smpl_all[(smpl_all.oprDatepb <= final) | (smpl_all.oprDatepn <= final)]\n",
    "    smpl_all = smpl_all[(smpl_all.oprDate != smpl_all.oprDatepb) & (smpl_all.oprDate != smpl_all.oprDatepn)]\n",
    "    \n",
    "    smpl_ovr = smpl_all[smpl_all.hlfDaysOfOverdue > 3]\n",
    "    \n",
    "    n = smpl_all.shape[0]\n",
    "    a = smpl_ovr.shape[0]\n",
    "    p = a / n\n",
    "    \n",
    "    print(n, a)\n",
    "    \n",
    "    return [p, n, smpl_all, smpl_ovr]"
   ]
  },
  {
   "cell_type": "markdown",
   "metadata": {},
   "source": [
    "**Функция обработки данных по погашенным займам (repayment):**"
   ]
  },
  {
   "cell_type": "code",
   "execution_count": 145,
   "metadata": {},
   "outputs": [],
   "source": [
    "def repayment(df, first, final):\n",
    "    smpl_all = df[(df.DateZvk >= first) & (df.DateZvk <= final) & (pd.isnull(df.oprZmSum) == False)]\n",
    "    \n",
    "    smpl_rep = smpl_all[(smpl_all.oprODpb == 0) | (smpl_all.oprODpn == 0)]\n",
    "    smpl_rep = smpl_rep[(smpl_rep.oprDatepb <= final) | (smpl_rep.oprDatepn <= final)]\n",
    "    smpl_rep = smpl_rep[(smpl_rep.oprDate != smpl_rep.oprDatepb) & (smpl_rep.oprDate != smpl_rep.oprDatepn)]\n",
    "    \n",
    "    n = smpl_all.shape[0]\n",
    "    a = smpl_rep.shape[0]\n",
    "    p = a / n\n",
    "    \n",
    "    print(n, a)\n",
    "    \n",
    "    return [p, n, smpl_all, smpl_rep]"
   ]
  },
  {
   "cell_type": "markdown",
   "metadata": {},
   "source": [
    "**Статистика критерия:**"
   ]
  },
  {
   "cell_type": "code",
   "execution_count": 146,
   "metadata": {},
   "outputs": [],
   "source": [
    "def stat(p1, p2, n1, n2):\n",
    "    P = (p1 * n1 + p2 * n2) / (n1 + n2)\n",
    "    return (p1 - p2) / np.sqrt(P * (1 - P) * (1 / n1 + 1 / n2))"
   ]
  },
  {
   "cell_type": "code",
   "execution_count": 147,
   "metadata": {},
   "outputs": [],
   "source": [
    "first1 = '2018-12-01'\n",
    "final1 = '2019-01-31'\n",
    "\n",
    "first2 = '2019-03-01'\n",
    "final2 = '2019-04-30'"
   ]
  },
  {
   "cell_type": "code",
   "execution_count": 148,
   "metadata": {},
   "outputs": [
    {
     "name": "stdout",
     "output_type": "stream",
     "text": [
      "12634 1067\n",
      "Доля вышедших на просрочку: 8.45%\n",
      "9017 624\n",
      "Доля вышедших на просрочку: 6.92%\n"
     ]
    }
   ],
   "source": [
    "ovrd1 = overdue(zvk[zvk.ON == True], first1, final1) \n",
    "print('Доля вышедших на просрочку: {:.2f}%'.format(ovrd1[0] * 100))\n",
    "\n",
    "ovrd2 = overdue(zvk[zvk.ON == True], first2, final2)\n",
    "print('Доля вышедших на просрочку: {:.2f}%'.format(ovrd2[0] * 100))"
   ]
  },
  {
   "cell_type": "markdown",
   "metadata": {},
   "source": [
    "**Значение статистики критерия для overdue:**"
   ]
  },
  {
   "cell_type": "code",
   "execution_count": 149,
   "metadata": {},
   "outputs": [
    {
     "name": "stdout",
     "output_type": "stream",
     "text": [
      "p-value: 0.00004\n"
     ]
    }
   ],
   "source": [
    "zetstat = stat(ovrd1[0], ovrd2[0], ovrd1[1], ovrd2[1])\n",
    "p = 2 * (1 - st.norm.cdf(np.abs(zetstat)))\n",
    "print('p-value: {:.5f}'.format(p))"
   ]
  },
  {
   "cell_type": "code",
   "execution_count": 150,
   "metadata": {},
   "outputs": [
    {
     "name": "stdout",
     "output_type": "stream",
     "text": [
      "24024 12634\n",
      "Доля погасивших займ: 52.59%\n",
      "20870 9017\n",
      "Доля погасивших займ: 43.21%\n"
     ]
    }
   ],
   "source": [
    "rep1 = repayment(zvk[zvk.ON == True], first1, final1) \n",
    "print('Доля погасивших займ: {:.2f}%'.format(rep1[0] * 100))\n",
    "\n",
    "rep2 = repayment(zvk[zvk.ON == True], first2, final2)\n",
    "print('Доля погасивших займ: {:.2f}%'.format(rep2[0] * 100))"
   ]
  },
  {
   "cell_type": "markdown",
   "metadata": {},
   "source": [
    "**Значение статистики критерия для repayment:**"
   ]
  },
  {
   "cell_type": "code",
   "execution_count": 151,
   "metadata": {},
   "outputs": [
    {
     "name": "stdout",
     "output_type": "stream",
     "text": [
      "p-value: 0.00000\n"
     ]
    }
   ],
   "source": [
    "zetstat = stat(rep1[0], rep2[0], rep1[1], rep2[1])\n",
    "p = 2 * (1 - st.norm.cdf(np.abs(zetstat)))\n",
    "print('p-value: {:.5f}'.format(p))"
   ]
  },
  {
   "cell_type": "code",
   "execution_count": null,
   "metadata": {},
   "outputs": [],
   "source": []
  }
 ],
 "metadata": {
  "kernelspec": {
   "display_name": "Python 3",
   "language": "python",
   "name": "python3"
  },
  "language_info": {
   "codemirror_mode": {
    "name": "ipython",
    "version": 3
   },
   "file_extension": ".py",
   "mimetype": "text/x-python",
   "name": "python",
   "nbconvert_exporter": "python",
   "pygments_lexer": "ipython3",
   "version": "3.7.3"
  }
 },
 "nbformat": 4,
 "nbformat_minor": 2
}
